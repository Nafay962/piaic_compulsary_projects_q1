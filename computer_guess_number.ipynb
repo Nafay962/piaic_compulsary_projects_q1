{
  "nbformat": 4,
  "nbformat_minor": 0,
  "metadata": {
    "colab": {
      "provenance": [],
      "authorship_tag": "ABX9TyNv17/GCSIkN7IL2VvdQ/++",
      "include_colab_link": true
    },
    "kernelspec": {
      "name": "python3",
      "display_name": "Python 3"
    },
    "language_info": {
      "name": "python"
    }
  },
  "cells": [
    {
      "cell_type": "markdown",
      "metadata": {
        "id": "view-in-github",
        "colab_type": "text"
      },
      "source": [
        "<a href=\"https://colab.research.google.com/github/Nafay962/piaic_compulsary_projects_q1/blob/main/computer_guess_number.ipynb\" target=\"_parent\"><img src=\"https://colab.research.google.com/assets/colab-badge.svg\" alt=\"Open In Colab\"/></a>"
      ]
    },
    {
      "cell_type": "code",
      "execution_count": null,
      "metadata": {
        "colab": {
          "base_uri": "https://localhost:8080/"
        },
        "id": "AjnSrXI6hxej",
        "outputId": "e4b8e17a-bbb2-4ed1-b063-505f4d60f76c"
      },
      "outputs": [
        {
          "output_type": "stream",
          "name": "stdout",
          "text": [
            "Guess a number between 1 and 20: 17\n",
            "Sorry guess again. Too high\n",
            "Guess a number between 1 and 20: 16\n",
            "Sorry guess again. Too high\n",
            "Guess a number between 1 and 20: 11\n",
            "Sorry guess again. Too low\n",
            "Guess a number between 1 and 20: 13\n",
            "Sorry guess again. Too low\n",
            "Guess a number between 1 and 20: 15\n",
            "Congrats you have guessed the number 15 in 5 gusses\n"
          ]
        }
      ],
      "source": [
        "import random\n",
        "\n",
        "def guess(x):\n",
        "    random_number = random.randint(1, x)\n",
        "    guess = 0\n",
        "    guess_count = 0\n",
        "    while guess != random_number:\n",
        "        guess = int(input(f\"Guess a number between 1 and {x}: \"))\n",
        "        guess_count +=1\n",
        "        if guess < random_number:\n",
        "            print(\"Sorry guess again. Too low\")\n",
        "        elif guess > random_number:\n",
        "            print(\"Sorry guess again. Too high\")\n",
        "        else:\n",
        "          print(f\"Congrats you have guessed the number {random_number} in {guess_count} gusses\")\n",
        "guess(20)"
      ]
    }
  ]
}