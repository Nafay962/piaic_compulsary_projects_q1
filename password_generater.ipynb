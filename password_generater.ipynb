{
  "nbformat": 4,
  "nbformat_minor": 0,
  "metadata": {
    "colab": {
      "provenance": [],
      "gpuType": "T4",
      "authorship_tag": "ABX9TyNA22r1L0EAmA6KHHGGqmB9",
      "include_colab_link": true
    },
    "kernelspec": {
      "name": "python3",
      "display_name": "Python 3"
    },
    "language_info": {
      "name": "python"
    },
    "accelerator": "GPU"
  },
  "cells": [
    {
      "cell_type": "markdown",
      "metadata": {
        "id": "view-in-github",
        "colab_type": "text"
      },
      "source": [
        "<a href=\"https://colab.research.google.com/github/Nafay962/piaic_compulsary_projects_q1/blob/main/password_generater.ipynb\" target=\"_parent\"><img src=\"https://colab.research.google.com/assets/colab-badge.svg\" alt=\"Open In Colab\"/></a>"
      ]
    },
    {
      "cell_type": "code",
      "execution_count": 3,
      "metadata": {
        "id": "ClrYNwZAornJ",
        "colab": {
          "base_uri": "https://localhost:8080/"
        },
        "outputId": "ee6158fc-060d-439f-8555-57f46347878b"
      },
      "outputs": [
        {
          "output_type": "stream",
          "name": "stdout",
          "text": [
            "Enter your number: 6268683\n",
            "Enter your password length: 4\n",
            "\n",
            "here are your password\n",
            "EbBX\n"
          ]
        }
      ],
      "source": [
        "import random\n",
        "\n",
        "chars = 'abcdefghijklmnopqrstuvwxyzABCDEFGHIJKLMNOPQRSTUVWXYZ!@#$%^&*().,123456790'\n",
        "\n",
        "number = int(input(\"Enter your number: \"))\n",
        "\n",
        "length = int(input(\"Enter your password length: \"))\n",
        "\n",
        "print('\\nhere are your password')\n",
        "\n",
        "for pwd in range(number):\n",
        "    passwords = ''\n",
        "    for c in range(length):\n",
        "        passwords += random.choice(chars)\n",
        "\n",
        "print(passwords)\n"
      ]
    }
  ]
}