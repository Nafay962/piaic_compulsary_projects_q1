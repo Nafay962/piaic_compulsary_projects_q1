{
  "nbformat": 4,
  "nbformat_minor": 0,
  "metadata": {
    "colab": {
      "provenance": [],
      "authorship_tag": "ABX9TyPB3Thd123HsPokaMO6ZVy4",
      "include_colab_link": true
    },
    "kernelspec": {
      "name": "python3",
      "display_name": "Python 3"
    },
    "language_info": {
      "name": "python"
    }
  },
  "cells": [
    {
      "cell_type": "markdown",
      "metadata": {
        "id": "view-in-github",
        "colab_type": "text"
      },
      "source": [
        "<a href=\"https://colab.research.google.com/github/Nafay962/piaic_compulsary_projects_q1/blob/main/rock_paper_scissors_game.ipynb\" target=\"_parent\"><img src=\"https://colab.research.google.com/assets/colab-badge.svg\" alt=\"Open In Colab\"/></a>"
      ]
    },
    {
      "cell_type": "code",
      "execution_count": 5,
      "metadata": {
        "colab": {
          "base_uri": "https://localhost:8080/"
        },
        "id": "tKrFCAnPNp7C",
        "outputId": "0a14671f-c8c7-4057-900c-0d70efd0b446"
      },
      "outputs": [
        {
          "output_type": "stream",
          "name": "stdout",
          "text": [
            "What's your choice? 'r' for rock, 'p' for paper, 's' for scissors: s\n",
            "You win!\n"
          ]
        }
      ],
      "source": [
        "import random\n",
        "\n",
        "def play():\n",
        "\n",
        "    def is_win(player, opponent):\n",
        "        if (player == 'r' and opponent == 's') or (player == 's' and opponent == 'p') \\\n",
        "            or (player == 'p' and opponent == 'r'):\n",
        "            return True\n",
        "        return False\n",
        "\n",
        "    user = input(\"What's your choice? 'r' for rock, 'p' for paper, 's' for scissors: \")\n",
        "    computer = random.choice(['r', 'p', 's'])\n",
        "\n",
        "    if user == computer:\n",
        "        return \"It's a tie\"\n",
        "\n",
        "    if is_win(user, computer):\n",
        "        return 'You win!'\n",
        "\n",
        "    return 'You lost!'\n",
        "\n",
        "print(play())"
      ]
    }
  ]
}