{
  "nbformat": 4,
  "nbformat_minor": 0,
  "metadata": {
    "colab": {
      "provenance": [],
      "authorship_tag": "ABX9TyNsHUM4CdcpkbWfFzK72Aqy",
      "include_colab_link": true
    },
    "kernelspec": {
      "name": "python3",
      "display_name": "Python 3"
    },
    "language_info": {
      "name": "python"
    }
  },
  "cells": [
    {
      "cell_type": "markdown",
      "metadata": {
        "id": "view-in-github",
        "colab_type": "text"
      },
      "source": [
        "<a href=\"https://colab.research.google.com/github/Nafay962/piaic_compulsary_projects_q1/blob/main/user_guess_number.ipynb\" target=\"_parent\"><img src=\"https://colab.research.google.com/assets/colab-badge.svg\" alt=\"Open In Colab\"/></a>"
      ]
    },
    {
      "cell_type": "code",
      "execution_count": 6,
      "metadata": {
        "id": "tXOsrikGRHWY",
        "colab": {
          "base_uri": "https://localhost:8080/"
        },
        "outputId": "1919a58c-ee11-4f4d-ba0b-3a05f3c4cbc1"
      },
      "outputs": [
        {
          "output_type": "stream",
          "name": "stdout",
          "text": [
            "Enter your guess number:30\n",
            "number is two low\n",
            "Enter your guess number:44\n",
            "number is too high\n",
            "Enter your guess number:33\n",
            "you guess the number 3 in attempts\n"
          ]
        }
      ],
      "source": [
        "actual_number=33\n",
        "attempts=0\n",
        "while True:\n",
        "  attempts += 1\n",
        "  guess=int(input(\"Enter your guess number:\"))\n",
        "  if guess < actual_number:\n",
        "     print(\"number is two low\")\n",
        "  elif guess > actual_number:\n",
        "    print(\"number is too high\")\n",
        "  else:\n",
        "    print(f\"you guess the number {attempts} in attempts\")\n",
        "    break"
      ]
    }
  ]
}